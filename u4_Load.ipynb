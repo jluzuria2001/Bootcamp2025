{
  "cells": [
    {
      "cell_type": "markdown",
      "metadata": {
        "id": "TkF2sRMKvwkk"
      },
      "source": [
        "#Carga, transmisión y muestreo de datos#"
      ]
    },
    {
      "cell_type": "code",
      "source": [
        "# Montar la unidad de gooogle drive\n",
        "from google.colab import drive\n",
        "drive.mount('/content/drive')\n"
      ],
      "metadata": {
        "colab": {
          "base_uri": "https://localhost:8080/"
        },
        "id": "Mm5pkcIlxi9m",
        "outputId": "de39f93e-13b9-47d6-94e3-411f9616797a"
      },
      "execution_count": 8,
      "outputs": [
        {
          "output_type": "stream",
          "name": "stdout",
          "text": [
            "Mounted at /content/drive\n"
          ]
        }
      ]
    },
    {
      "cell_type": "code",
      "source": [
        "# Rutas al drive\n",
        "ruta_colores_drive = '/content/drive/My Drive/Colab Notebooks/Curso2025/data/Colores.txt'\n",
        "ruta_excel_drive = '/content/drive/My Drive/Colab Notebooks/Curso2025/data/Values.xls'\n",
        "ruta_titanic_drive = '/content/drive/My Drive/Colab Notebooks/Curso2025/data/titanic.csv'"
      ],
      "metadata": {
        "id": "YnxmpD04xgoA"
      },
      "execution_count": 25,
      "outputs": []
    },
    {
      "cell_type": "code",
      "source": [
        "with open(ruta_colores_drive, 'r') as archivo_abierto:\n",
        "    print(f'Contenido de {\"ruta_colores\"}:\\n' + archivo_abierto.read())"
      ],
      "metadata": {
        "colab": {
          "base_uri": "https://localhost:8080/"
        },
        "id": "HTimUYyIqQyR",
        "outputId": "0e24d122-8b37-4079-e264-bf1d27fa11ab"
      },
      "execution_count": 13,
      "outputs": [
        {
          "output_type": "stream",
          "name": "stdout",
          "text": [
            "Contenido de ruta_colores:\n",
            "Color\tValue\n",
            "Rojo\t1\n",
            "Naranja\t2\n",
            "Amarillo\t3\n",
            "Verde\t4\n",
            "Azul\t5\n",
            "Púrpura\t6\n",
            "Negro\t7\n",
            "Blanco\t8\n"
          ]
        }
      ]
    },
    {
      "cell_type": "markdown",
      "metadata": {
        "id": "Xqx6CZsNvwko"
      },
      "source": [
        "## Cargar pequeñas cantidades de datos en la memoria"
      ]
    },
    {
      "cell_type": "code",
      "source": [
        "with open(ruta_colores_drive, 'r') as archivo_abierto:\n",
        "    print(f'Contenido de {\"ruta_colores\"}:\\n' + archivo_abierto.read())\n"
      ],
      "metadata": {
        "colab": {
          "base_uri": "https://localhost:8080/"
        },
        "id": "KJ9sSPft0S_v",
        "outputId": "a181e9d6-674f-47bf-8102-ae8a9e537b67"
      },
      "execution_count": 15,
      "outputs": [
        {
          "output_type": "stream",
          "name": "stdout",
          "text": [
            "Contenido de ruta_colores:\n",
            "Color\tValue\n",
            "Rojo\t1\n",
            "Naranja\t2\n",
            "Amarillo\t3\n",
            "Verde\t4\n",
            "Azul\t5\n",
            "Púrpura\t6\n",
            "Negro\t7\n",
            "Blanco\t8\n"
          ]
        }
      ]
    },
    {
      "cell_type": "markdown",
      "metadata": {
        "id": "N1kig96-vwks"
      },
      "source": [
        "## Transmisión de grandes cantidades de datos a la memoria\n",
        "\n"
      ]
    },
    {
      "cell_type": "code",
      "execution_count": 16,
      "metadata": {
        "colab": {
          "base_uri": "https://localhost:8080/"
        },
        "id": "s26Dkol9vwkt",
        "outputId": "77c60612-30e2-40b5-bd0a-b7e2d6c35830"
      },
      "outputs": [
        {
          "output_type": "stream",
          "name": "stdout",
          "text": [
            "Leyendo Datos: Color\tValue\n",
            "Leyendo Datos: Rojo\t1\n",
            "Leyendo Datos: Naranja\t2\n",
            "Leyendo Datos: Amarillo\t3\n",
            "Leyendo Datos: Verde\t4\n",
            "Leyendo Datos: Azul\t5\n",
            "Leyendo Datos: Púrpura\t6\n",
            "Leyendo Datos: Negro\t7\n",
            "Leyendo Datos: Blanco\t8"
          ]
        }
      ],
      "source": [
        "with open(ruta_colores_drive, 'r') as archivo_abierto:\n",
        "    for observacion in archivo_abierto:\n",
        "        print('Leyendo Datos: ' + observacion, end=\"\")"
      ]
    },
    {
      "cell_type": "markdown",
      "metadata": {
        "id": "rPI9un2evwkw"
      },
      "source": [
        "## Muestreo de datos de diferentes maneras"
      ]
    },
    {
      "cell_type": "code",
      "execution_count": 17,
      "metadata": {
        "colab": {
          "base_uri": "https://localhost:8080/"
        },
        "id": "DfNGeMqtvwkx",
        "outputId": "2d4eb226-c407-4ebe-95d4-550dd5e57f56"
      },
      "outputs": [
        {
          "output_type": "stream",
          "name": "stdout",
          "text": [
            "Leyendo Linea: 0 Contenido: Color\tValue\n",
            "Leyendo Linea: 2 Contenido: Naranja\t2\n",
            "Leyendo Linea: 4 Contenido: Verde\t4\n",
            "Leyendo Linea: 6 Contenido: Púrpura\t6\n",
            "Leyendo Linea: 8 Contenido: Blanco\t8"
          ]
        }
      ],
      "source": [
        "n = 2\n",
        "with open(ruta_colores_drive, 'r') as archivo_abierto:\n",
        "    for j, observacion in enumerate(archivo_abierto):\n",
        "        if j % n==0:\n",
        "            print('Leyendo Linea: ' + str(j) + ' Contenido: ' + observacion, end=\"\")"
      ]
    },
    {
      "cell_type": "markdown",
      "metadata": {
        "id": "4af3Tzhpvwkx"
      },
      "source": [
        "This is the output with `n=3` rather than `n=2`."
      ]
    },
    {
      "cell_type": "code",
      "execution_count": 18,
      "metadata": {
        "colab": {
          "base_uri": "https://localhost:8080/"
        },
        "id": "b6pLe2S9vwky",
        "outputId": "f8bfdf79-3949-4d3f-8f62-cc02b08b8db1"
      },
      "outputs": [
        {
          "output_type": "stream",
          "name": "stdout",
          "text": [
            "Leyendo Linea: 0 Contenido: Color\tValue\n",
            "Leyendo Linea: 3 Contenido: Amarillo\t3\n",
            "Leyendo Linea: 6 Contenido: Púrpura\t6\n"
          ]
        }
      ],
      "source": [
        "n = 3\n",
        "with open(ruta_colores_drive, 'r') as archivo_abierto:\n",
        "    for j, observacion in enumerate(archivo_abierto):\n",
        "        if j % n==0:\n",
        "            print('Leyendo Linea: ' + str(j) + ' Contenido: ' + observacion, end=\"\")"
      ]
    },
    {
      "cell_type": "code",
      "execution_count": 19,
      "metadata": {
        "colab": {
          "base_uri": "https://localhost:8080/"
        },
        "id": "oYNpp6q0vwkz",
        "outputId": "ea1bde57-9490-474d-956e-2735a1bcb9da"
      },
      "outputs": [
        {
          "output_type": "stream",
          "name": "stdout",
          "text": [
            "Leyendo Linea: 0 Contenido: Color\tValue\n",
            "Leyendo Linea: 3 Contenido: Amarillo\t3\n",
            "Leyendo Linea: 4 Contenido: Verde\t4\n",
            "Leyendo Linea: 7 Contenido: Negro\t7\n",
            "Leyendo Linea: 8 Contenido: Blanco\t8"
          ]
        }
      ],
      "source": [
        "from random import random\n",
        "\n",
        "tamaño_muestra = 0.25\n",
        "with open(ruta_colores_drive, 'r') as archivo_abierto:\n",
        "    for j, observacion in enumerate(archivo_abierto):\n",
        "        if random()<=tamaño_muestra:\n",
        "            print('Leyendo Linea: ' + str(j) + ' Contenido: ' + observacion, end=\"\")"
      ]
    },
    {
      "cell_type": "markdown",
      "metadata": {
        "id": "SftBwCuzvwk0"
      },
      "source": [
        "# Acceso a datos en formato de archivo plano estructurado"
      ]
    },
    {
      "cell_type": "markdown",
      "metadata": {
        "id": "HHRSs_pMvwk0"
      },
      "source": [
        "## Lectura de un archivo de texto"
      ]
    },
    {
      "cell_type": "code",
      "source": [
        "import pandas as pd"
      ],
      "metadata": {
        "id": "3BdOBVsE7at9"
      },
      "execution_count": 21,
      "outputs": []
    },
    {
      "cell_type": "code",
      "execution_count": 22,
      "metadata": {
        "colab": {
          "base_uri": "https://localhost:8080/"
        },
        "id": "3oSs7IKtvwk0",
        "outputId": "bd19b4df-e840-4228-f50d-fe793804a5e3"
      },
      "outputs": [
        {
          "output_type": "stream",
          "name": "stdout",
          "text": [
            "      Color  Value\n",
            "0      Rojo      1\n",
            "1   Naranja      2\n",
            "2  Amarillo      3\n",
            "3     Verde      4\n",
            "4      Azul      5\n",
            "5   Púrpura      6\n",
            "6     Negro      7\n",
            "7    Blanco      8\n"
          ]
        }
      ],
      "source": [
        "color_table = pd.io.parsers.read_table(ruta_colores_drive)\n",
        "print(color_table)"
      ]
    },
    {
      "cell_type": "markdown",
      "metadata": {
        "id": "4wTuIIGAvwk1"
      },
      "source": [
        "## Lectura de formato CSV"
      ]
    },
    {
      "cell_type": "code",
      "execution_count": 26,
      "metadata": {
        "id": "3NmpsVKIvwk1",
        "outputId": "6b2a3d39-0012-47e0-b4ea-0eae33c6b974",
        "colab": {
          "base_uri": "https://localhost:8080/"
        }
      },
      "outputs": [
        {
          "output_type": "stream",
          "name": "stdout",
          "text": [
            "            age\n",
            "0       29.0000\n",
            "1        0.9167\n",
            "2        2.0000\n",
            "3       30.0000\n",
            "4       25.0000\n",
            "...         ...\n",
            "1304    14.5000\n",
            "1305  9999.0000\n",
            "1306    26.5000\n",
            "1307    27.0000\n",
            "1308    29.0000\n",
            "\n",
            "[1309 rows x 1 columns]\n"
          ]
        }
      ],
      "source": [
        "titanic = pd.io.parsers.read_csv(ruta_titanic_drive)\n",
        "edades = titanic[['age']]\n",
        "print(edades)"
      ]
    },
    {
      "cell_type": "code",
      "execution_count": 27,
      "metadata": {
        "id": "CFeda3CSvwk2",
        "outputId": "f48163af-70aa-49a3-876b-635d6d712342",
        "colab": {
          "base_uri": "https://localhost:8080/"
        }
      },
      "outputs": [
        {
          "output_type": "stream",
          "name": "stdout",
          "text": [
            "[[29.        ]\n",
            " [ 0.91670001]\n",
            " [ 2.        ]\n",
            " ...\n",
            " [26.5       ]\n",
            " [27.        ]\n",
            " [29.        ]]\n"
          ]
        }
      ],
      "source": [
        "edades = titanic[['age']].values\n",
        "print(edades)"
      ]
    },
    {
      "cell_type": "markdown",
      "metadata": {
        "id": "vdFb-sa5vwk2"
      },
      "source": [
        "## Lectura de archivos Excel (Microsoft Office)"
      ]
    },
    {
      "cell_type": "code",
      "execution_count": 28,
      "metadata": {
        "id": "UjxBaeDBvwk4",
        "outputId": "87a770c1-36e6-43e5-b527-baf2e6486231",
        "colab": {
          "base_uri": "https://localhost:8080/"
        }
      },
      "outputs": [
        {
          "output_type": "stream",
          "name": "stdout",
          "text": [
            "    Angle (Degrees)      Sine    Cosine    Tangent\n",
            "0        138.550574  0.661959 -0.749540  -0.883153\n",
            "1        305.535745 -0.813753  0.581211  -1.400100\n",
            "2        280.518695 -0.983195  0.182556  -5.385709\n",
            "3        216.363795 -0.592910 -0.805269   0.736289\n",
            "4         36.389247  0.593268  0.805005   0.736974\n",
            "..              ...       ...       ...        ...\n",
            "67       324.199562 -0.584964  0.811059  -0.721234\n",
            "68       187.948172 -0.138277 -0.990394   0.139619\n",
            "69       270.678249 -0.999930  0.011837 -84.472139\n",
            "70       270.779159 -0.999908  0.013598 -73.530885\n",
            "71       200.213513 -0.345520 -0.938412   0.368196\n",
            "\n",
            "[72 rows x 4 columns]\n"
          ]
        }
      ],
      "source": [
        "xls = pd.ExcelFile(ruta_excel_drive)\n",
        "valores_trigonometricos = xls.parse('Sheet1', index_col=None, na_values=['NA'])\n",
        "print(valores_trigonometricos)"
      ]
    },
    {
      "cell_type": "markdown",
      "source": [
        "otro metodo:"
      ],
      "metadata": {
        "id": "IvmuaZTQzXSV"
      }
    },
    {
      "cell_type": "code",
      "source": [
        "ruta_colores = \"https://raw.githubusercontent.com/jluzuria2001/Bootcamp2025/refs/heads/main/data/Colores.txt\"\n",
        "ruta_titanic = \"https://raw.githubusercontent.com/jluzuria2001/Bootcamp2025/refs/heads/main/data/titanic.csv\"\n",
        "ruta_excel = \"https://github.com/jluzuria2001/Bootcamp2025/raw/refs/heads/main/data/Values.xls\"\n"
      ],
      "metadata": {
        "id": "TYJNeDO5qMgQ"
      },
      "execution_count": 2,
      "outputs": []
    },
    {
      "cell_type": "code",
      "source": [
        "import requests\n",
        "\n",
        "# Obtener el contenido de la URL\n",
        "response = requests.get(ruta_colores)\n",
        "response.raise_for_status()  # Generar una excepción para códigos de estado incorrectos (p. ej., 404)\n",
        "\n",
        "# Leer el contenido como texto\n",
        "contenido = response.text\n",
        "\n",
        "# Imprimir el contenido\n",
        "print(f'Contenido de {\"ruta_colores\"}:\\n' + contenido)\n",
        "\n"
      ],
      "metadata": {
        "colab": {
          "base_uri": "https://localhost:8080/"
        },
        "id": "c9GQVoGaq9TS",
        "outputId": "e6494652-3f37-4672-aa34-f4d74d143d3e"
      },
      "execution_count": 6,
      "outputs": [
        {
          "output_type": "stream",
          "name": "stdout",
          "text": [
            "Contenido de ruta_colores:\n",
            "Color\tValue\n",
            "Rojo\t1\n",
            "Naranja\t2\n",
            "Amarillo\t3\n",
            "Verde\t4\n",
            "Azul\t5\n",
            "Púrpura\t6\n",
            "Negro\t7\n",
            "Blanco\t8\n"
          ]
        }
      ]
    },
    {
      "cell_type": "code",
      "execution_count": null,
      "metadata": {
        "id": "jvP4usPDvwk9"
      },
      "outputs": [],
      "source": []
    }
  ],
  "metadata": {
    "kernelspec": {
      "display_name": "Python 3 (ipykernel)",
      "language": "python",
      "name": "python3"
    },
    "language_info": {
      "codemirror_mode": {
        "name": "ipython",
        "version": 3
      },
      "file_extension": ".py",
      "mimetype": "text/x-python",
      "name": "python",
      "nbconvert_exporter": "python",
      "pygments_lexer": "ipython3",
      "version": "3.10.9"
    },
    "colab": {
      "provenance": []
    }
  },
  "nbformat": 4,
  "nbformat_minor": 0
}