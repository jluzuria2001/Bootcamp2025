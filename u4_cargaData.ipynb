{
  "cells": [
    {
      "cell_type": "markdown",
      "metadata": {
        "id": "TkF2sRMKvwkk"
      },
      "source": [
        "#Carga, transmisión y muestreo de datos#"
      ]
    },
    {
      "cell_type": "code",
      "source": [
        "# Montar la unidad de gooogle drive\n",
        "from google.colab import drive\n",
        "drive.mount('/content/drive')\n"
      ],
      "metadata": {
        "colab": {
          "base_uri": "https://localhost:8080/"
        },
        "id": "Mm5pkcIlxi9m",
        "outputId": "de39f93e-13b9-47d6-94e3-411f9616797a"
      },
      "execution_count": null,
      "outputs": [
        {
          "output_type": "stream",
          "name": "stdout",
          "text": [
            "Mounted at /content/drive\n"
          ]
        }
      ]
    },
    {
      "cell_type": "code",
      "source": [
        "# Rutas al drive\n",
        "ruta_colores_drive = '/content/drive/My Drive/Colab Notebooks/Curso2025/data/Colores.txt'\n",
        "ruta_excel_drive = '/content/drive/My Drive/Colab Notebooks/Curso2025/data/Values.xls'\n",
        "ruta_titanic_drive = '/content/drive/My Drive/Colab Notebooks/Curso2025/data/titanic.csv'"
      ],
      "metadata": {
        "id": "YnxmpD04xgoA"
      },
      "execution_count": null,
      "outputs": []
    },
    {
      "cell_type": "code",
      "source": [
        "with open(ruta_colores_drive, 'r') as archivo_abierto:\n",
        "    print(f'Contenido de {\"ruta_colores\"}:\\n' + archivo_abierto.read())"
      ],
      "metadata": {
        "id": "HTimUYyIqQyR"
      },
      "execution_count": null,
      "outputs": []
    },
    {
      "cell_type": "markdown",
      "metadata": {
        "id": "Xqx6CZsNvwko"
      },
      "source": [
        "## Cargar pequeñas cantidades de datos en la memoria"
      ]
    },
    {
      "cell_type": "code",
      "source": [
        "with open(ruta_colores_drive, 'r') as archivo_abierto:\n",
        "    print(f'Contenido de {\"ruta_colores\"}:\\n' + archivo_abierto.read())\n"
      ],
      "metadata": {
        "id": "KJ9sSPft0S_v"
      },
      "execution_count": null,
      "outputs": []
    },
    {
      "cell_type": "markdown",
      "metadata": {
        "id": "N1kig96-vwks"
      },
      "source": [
        "## Transmisión de grandes cantidades de datos a la memoria\n",
        "\n"
      ]
    },
    {
      "cell_type": "code",
      "execution_count": null,
      "metadata": {
        "id": "s26Dkol9vwkt"
      },
      "outputs": [],
      "source": [
        "with open(ruta_colores_drive, 'r') as archivo_abierto:\n",
        "    for observacion in archivo_abierto:\n",
        "        print('Leyendo Datos: ' + observacion, end=\"\")"
      ]
    },
    {
      "cell_type": "markdown",
      "metadata": {
        "id": "rPI9un2evwkw"
      },
      "source": [
        "## Muestreo de datos de diferentes maneras"
      ]
    },
    {
      "cell_type": "code",
      "execution_count": null,
      "metadata": {
        "colab": {
          "base_uri": "https://localhost:8080/"
        },
        "id": "DfNGeMqtvwkx",
        "outputId": "2d4eb226-c407-4ebe-95d4-550dd5e57f56"
      },
      "outputs": [
        {
          "output_type": "stream",
          "name": "stdout",
          "text": [
            "Leyendo Linea: 0 Contenido: Color\tValue\n",
            "Leyendo Linea: 2 Contenido: Naranja\t2\n",
            "Leyendo Linea: 4 Contenido: Verde\t4\n",
            "Leyendo Linea: 6 Contenido: Púrpura\t6\n",
            "Leyendo Linea: 8 Contenido: Blanco\t8"
          ]
        }
      ],
      "source": [
        "n = 2\n",
        "with open(ruta_colores_drive, 'r') as archivo_abierto:\n",
        "    for j, observacion in enumerate(archivo_abierto):\n",
        "        if j % n==0:\n",
        "            print('Leyendo Linea: ' + str(j) + ' Contenido: ' + observacion, end=\"\")"
      ]
    },
    {
      "cell_type": "markdown",
      "metadata": {
        "id": "4af3Tzhpvwkx"
      },
      "source": [
        "This is the output with `n=3` rather than `n=2`."
      ]
    },
    {
      "cell_type": "code",
      "execution_count": null,
      "metadata": {
        "colab": {
          "base_uri": "https://localhost:8080/"
        },
        "id": "b6pLe2S9vwky",
        "outputId": "f8bfdf79-3949-4d3f-8f62-cc02b08b8db1"
      },
      "outputs": [
        {
          "output_type": "stream",
          "name": "stdout",
          "text": [
            "Leyendo Linea: 0 Contenido: Color\tValue\n",
            "Leyendo Linea: 3 Contenido: Amarillo\t3\n",
            "Leyendo Linea: 6 Contenido: Púrpura\t6\n"
          ]
        }
      ],
      "source": [
        "n = 3\n",
        "with open(ruta_colores_drive, 'r') as archivo_abierto:\n",
        "    for j, observacion in enumerate(archivo_abierto):\n",
        "        if j % n==0:\n",
        "            print('Leyendo Linea: ' + str(j) + ' Contenido: ' + observacion, end=\"\")"
      ]
    },
    {
      "cell_type": "code",
      "execution_count": null,
      "metadata": {
        "colab": {
          "base_uri": "https://localhost:8080/"
        },
        "id": "oYNpp6q0vwkz",
        "outputId": "ea1bde57-9490-474d-956e-2735a1bcb9da"
      },
      "outputs": [
        {
          "output_type": "stream",
          "name": "stdout",
          "text": [
            "Leyendo Linea: 0 Contenido: Color\tValue\n",
            "Leyendo Linea: 3 Contenido: Amarillo\t3\n",
            "Leyendo Linea: 4 Contenido: Verde\t4\n",
            "Leyendo Linea: 7 Contenido: Negro\t7\n",
            "Leyendo Linea: 8 Contenido: Blanco\t8"
          ]
        }
      ],
      "source": [
        "from random import random\n",
        "\n",
        "tamaño_muestra = 0.25\n",
        "with open(ruta_colores_drive, 'r') as archivo_abierto:\n",
        "    for j, observacion in enumerate(archivo_abierto):\n",
        "        if random()<=tamaño_muestra:\n",
        "            print('Leyendo Linea: ' + str(j) + ' Contenido: ' + observacion, end=\"\")"
      ]
    },
    {
      "cell_type": "markdown",
      "metadata": {
        "id": "SftBwCuzvwk0"
      },
      "source": [
        "# Acceso a datos en formato de archivo plano estructurado"
      ]
    },
    {
      "cell_type": "markdown",
      "metadata": {
        "id": "HHRSs_pMvwk0"
      },
      "source": [
        "## Lectura de un archivo de texto"
      ]
    },
    {
      "cell_type": "code",
      "source": [
        "import pandas as pd"
      ],
      "metadata": {
        "id": "3BdOBVsE7at9"
      },
      "execution_count": null,
      "outputs": []
    },
    {
      "cell_type": "code",
      "execution_count": null,
      "metadata": {
        "colab": {
          "base_uri": "https://localhost:8080/"
        },
        "id": "3oSs7IKtvwk0",
        "outputId": "99c6b53c-0b08-4fda-f24a-f19bc6b49345"
      },
      "outputs": [
        {
          "output_type": "stream",
          "name": "stdout",
          "text": [
            "      Color  Value\n",
            "0      Rojo      1\n",
            "1   Naranja      2\n",
            "2  Amarillo      3\n",
            "3     Verde      4\n",
            "4      Azul      5\n",
            "5   Púrpura      6\n",
            "6     Negro      7\n",
            "7    Blanco      8\n"
          ]
        }
      ],
      "source": [
        "color_table = pd.io.parsers.read_table(ruta_colores_drive)\n",
        "print(color_table)"
      ]
    },
    {
      "cell_type": "markdown",
      "metadata": {
        "id": "4wTuIIGAvwk1"
      },
      "source": [
        "## Lectura de formato CSV"
      ]
    },
    {
      "cell_type": "code",
      "execution_count": null,
      "metadata": {
        "id": "3NmpsVKIvwk1"
      },
      "outputs": [],
      "source": [
        "titanic = pd.io.parsers.read_csv(ruta_titanic_drive)\n",
        "titanic.head()"
      ]
    },
    {
      "cell_type": "code",
      "source": [
        "edades = titanic[['Edad']]\n",
        "print(edades)"
      ],
      "metadata": {
        "id": "NBuEmOkfDqM-"
      },
      "execution_count": null,
      "outputs": []
    },
    {
      "cell_type": "code",
      "execution_count": null,
      "metadata": {
        "id": "CFeda3CSvwk2"
      },
      "outputs": [],
      "source": [
        "edades = titanic[['Edad']].values\n",
        "print(edades)"
      ]
    },
    {
      "cell_type": "code",
      "source": [
        "serie_edades_titanic = pd.Series(titanic[\"Edad\"].values, index=titanic[\"Nombre\"].values)\n",
        "serie_edades_titanic"
      ],
      "metadata": {
        "id": "xhQemdSKDgql"
      },
      "execution_count": null,
      "outputs": []
    },
    {
      "cell_type": "markdown",
      "metadata": {
        "id": "vdFb-sa5vwk2"
      },
      "source": [
        "## Lectura de archivos Excel (Microsoft Office)"
      ]
    },
    {
      "cell_type": "code",
      "execution_count": null,
      "metadata": {
        "id": "UjxBaeDBvwk4"
      },
      "outputs": [],
      "source": [
        "xls = pd.ExcelFile(ruta_excel_drive)\n",
        "valores_trigonometricos = xls.parse('Sheet1', index_col=None, na_values=['NA'])\n",
        "print(valores_trigonometricos)"
      ]
    },
    {
      "cell_type": "markdown",
      "source": [
        "otro metodo:"
      ],
      "metadata": {
        "id": "IvmuaZTQzXSV"
      }
    },
    {
      "cell_type": "code",
      "source": [
        "ruta_colores = \"https://raw.githubusercontent.com/jluzuria2001/Bootcamp2025/refs/heads/main/data/Colores.txt\"\n",
        "ruta_titanic = \"https://raw.githubusercontent.com/jluzuria2001/Bootcamp2025/refs/heads/main/data/titanic.csv\"\n",
        "ruta_excel = \"https://github.com/jluzuria2001/Bootcamp2025/raw/refs/heads/main/data/Values.xls\"\n"
      ],
      "metadata": {
        "id": "TYJNeDO5qMgQ"
      },
      "execution_count": null,
      "outputs": []
    },
    {
      "cell_type": "code",
      "source": [
        "import requests\n",
        "\n",
        "# Obtener el contenido de la URL\n",
        "response = requests.get(ruta_colores)\n",
        "response.raise_for_status()  # Generar una excepción para códigos de estado incorrectos (p. ej., 404)\n",
        "\n",
        "# Leer el contenido como texto\n",
        "contenido = response.text\n",
        "\n",
        "# Imprimir el contenido\n",
        "print(f'Contenido de {\"ruta_colores\"}:\\n' + contenido)\n",
        "\n"
      ],
      "metadata": {
        "id": "c9GQVoGaq9TS"
      },
      "execution_count": null,
      "outputs": []
    },
    {
      "cell_type": "code",
      "execution_count": null,
      "metadata": {
        "id": "jvP4usPDvwk9"
      },
      "outputs": [],
      "source": []
    }
  ],
  "metadata": {
    "kernelspec": {
      "display_name": "Python 3 (ipykernel)",
      "language": "python",
      "name": "python3"
    },
    "language_info": {
      "codemirror_mode": {
        "name": "ipython",
        "version": 3
      },
      "file_extension": ".py",
      "mimetype": "text/x-python",
      "name": "python",
      "nbconvert_exporter": "python",
      "pygments_lexer": "ipython3",
      "version": "3.10.9"
    },
    "colab": {
      "provenance": []
    }
  },
  "nbformat": 4,
  "nbformat_minor": 0
}